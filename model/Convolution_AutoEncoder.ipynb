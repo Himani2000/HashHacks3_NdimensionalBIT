{
 "cells": [
  {
   "cell_type": "code",
   "execution_count": 11,
   "metadata": {},
   "outputs": [],
   "source": [
    "import numpy as np\n",
    "import pandas as pd\n",
    "import torch\n",
    "from torch.autograd import Variable\n",
    "import torch.nn.functional as F\n",
    "from torch import nn\n",
    "import matplotlib.pyplot as plt\n",
    "%matplotlib inline\n",
    "import torch.utils.data as Data"
   ]
  },
  {
   "cell_type": "code",
   "execution_count": 12,
   "metadata": {},
   "outputs": [
    {
     "name": "stdout",
     "output_type": "stream",
     "text": [
      "(42000, 785)\n"
     ]
    }
   ],
   "source": [
    "#DATA LOADING\n",
    "ds = pd.read_csv('/Users/tanish/Downloads/DATA/all/train.csv').values\n",
    "print ds.shape"
   ]
  },
  {
   "cell_type": "code",
   "execution_count": 43,
   "metadata": {},
   "outputs": [
    {
     "name": "stdout",
     "output_type": "stream",
     "text": [
      "(10000, 1, 28, 28)\n",
      "(10000,)\n",
      "(1000, 1, 28, 28)\n",
      "(1000,)\n"
     ]
    }
   ],
   "source": [
    "#DATA PREPARATION\n",
    "xtrain = ds[:10000 , 1:].reshape((-1,1,28,28)) / 255.0\n",
    "ytrain = ds[:10000 , 0]\n",
    "print xtrain.shape\n",
    "print ytrain.shape\n",
    "\n",
    "xtest = ds[10000:11000 , 1:].reshape((-1,1,28,28)) / 255.0\n",
    "ytest = ds[10000:11000 , 0]\n",
    "print xtest.shape\n",
    "print ytest.shape"
   ]
  },
  {
   "cell_type": "code",
   "execution_count": 44,
   "metadata": {},
   "outputs": [
    {
     "data": {
      "text/plain": [
       "'\\nArchitecture:\\n\\nEncoder -> linear(converting to 2d) -> linear(converting from 2d) -> Decoder\\n'"
      ]
     },
     "execution_count": 44,
     "metadata": {},
     "output_type": "execute_result"
    }
   ],
   "source": [
    "'''\n",
    "Architecture:\n",
    "\n",
    "Encoder -> linear(converting to 2d) -> linear(converting from 2d) -> Decoder\n",
    "'''"
   ]
  },
  {
   "cell_type": "code",
   "execution_count": 53,
   "metadata": {},
   "outputs": [],
   "source": [
    "#MAKING CLASS\n",
    "#CAE = convolution auto encoder\n",
    "class CAE(torch.nn.Module):\n",
    "    def __init__(self):\n",
    "        super(CAE , self).__init__()#Why??\n",
    "        \n",
    "        #1.\n",
    "        self.encoder = nn.Sequential(\n",
    "        nn.Conv2d(1 , 16 , 3 , stride=3 , padding=1),# b, 16, 10, 10\n",
    "        #1=channel , 16= no. of kernels , 3= kernel size\n",
    "        #result will be 16 channel , 10x10 image\n",
    "            \n",
    "        nn.ReLU(True),\n",
    "            \n",
    "        nn.MaxPool2d(2 , stride=2),# b, 16, 5, 5\n",
    "        #just decresing the size using pool operation result=>16 channel 5x5\n",
    "            \n",
    "        \n",
    "        nn.Conv2d(16 , 8 , 3 , stride=2 , padding=1),  # b, 8, 3, 3\n",
    "        #16 channel , 8 is no. of kernels ,size of kernel is 3\n",
    "        #result will be 8 channel , 3x3 image\n",
    "            \n",
    "        nn.ReLU(True),\n",
    "            \n",
    "        nn.MaxPool2d(2 , stride=1)# b, 8, 2, 2\n",
    "        #result 8 channel 2x2image\n",
    "        )\n",
    "        \n",
    "        #2.\n",
    "        '''self.decoder = nn.Sequential(\n",
    "        nn.ConvTranspose2d(8 , 16 , 3 , stride=2),  # b, 16, 5, 5\n",
    "        nn.ReLU(True),\n",
    "        nn.ConvTranspose2d(16 , 8 , 5 , stride=3 , padding=1),  # b, 8, 15, 15\n",
    "        nn.ReLU(True),\n",
    "        nn.ConvTranspose2d(8 , 1, 2 , stride=2 , padding=1),   # b, 1, 28, 28\n",
    "        nn.Sigmoid()#for ranging b/w 0 to 1\n",
    "        )'''\n",
    "        \n",
    "        self.decoder = nn.Sequential(\n",
    "        nn.ConvTranspose2d(8 , 16 , 4 , stride=3), # b ,16 ,7 ,7\n",
    "        nn.ReLU(True),\n",
    "        nn.ConvTranspose2d(16 , 1, 4 , stride=4), #b , 1, 28,28\n",
    "        nn.Sigmoid()\n",
    "        )\n",
    "        '''\n",
    "        We can also apply linearity b/w convolutions\n",
    "        '''\n",
    "        \n",
    "        #3.\n",
    "        self.encode_linear = nn.Linear(32,2)\n",
    "        #converting to 2d \n",
    "        #32 came from 8x2x2\n",
    "        #2 means 2d\n",
    "        \n",
    "        #4.\n",
    "        self.decode_linear = nn.Linear(2,32)\n",
    "        #converting 2d to 32 dimensions\n",
    "        \n",
    "    \n",
    "    def forward(self , x):\n",
    "        x = self.encode(x)\n",
    "        x = self.decode(x)\n",
    "        return x\n",
    "    \n",
    "    def encode(self ,x):\n",
    "        x = self.encoder(x)\n",
    "        #Befor passing it to linear function weneedto reshape it\n",
    "        #which can be done by view function\n",
    "        x = x.view(x.size(0) , -1)\n",
    "        x = self.encode_linear(x)\n",
    "        return x\n",
    "    \n",
    "    def decode(self , x):\n",
    "        #First we need to convert linearity\n",
    "        x = self.decode_linear(x)\n",
    "        #now we need to change the shape\n",
    "        x = x.view(x.size(0) , 8 , 2 , 2)#??How\n",
    "        x = self.decoder(x)\n",
    "        return x\n",
    "        "
   ]
  },
  {
   "cell_type": "code",
   "execution_count": 54,
   "metadata": {},
   "outputs": [],
   "source": [
    "#MAKING CLASS OBJECT\n",
    "model = CAE()"
   ]
  },
  {
   "cell_type": "code",
   "execution_count": 55,
   "metadata": {},
   "outputs": [],
   "source": [
    "#MAKING LOSS AND OPTIMIZER FUNCTION\n",
    "loss_func = nn.MSELoss()\n",
    "#as we are predicting input only so loss. would be MSE\n",
    "\n",
    "optimizer  = torch.optim.Adam(model.parameters() , lr = 0.005)"
   ]
  },
  {
   "cell_type": "code",
   "execution_count": 56,
   "metadata": {},
   "outputs": [],
   "source": [
    "#MAKING BATCHES\n",
    "def make_batch(train ,label , batch_size=10):\n",
    "    \n",
    "    start = 0\n",
    "    stop = start + batch_size\n",
    "    while start<train.shape[0]:\n",
    "        yield Variable(torch.FloatTensor(train[start:stop]) , requires_grad=True) , Variable(torch.FloatTensor(train[start:stop]))\n",
    "        #?? why this float and long??\n",
    "        #why not label in 2nd part??\n",
    "    \n",
    "        start = stop\n",
    "        stop = start + batch_size\n",
    "#error in using long tensor in second arg  \n"
   ]
  },
  {
   "cell_type": "code",
   "execution_count": 68,
   "metadata": {},
   "outputs": [
    {
     "name": "stdout",
     "output_type": "stream",
     "text": [
      "('Epoch: ', 0, '| Step: ', 0, '| Loss: ', array(0.05301737, dtype=float32))\n"
     ]
    }
   ],
   "source": [
    "#TRAINING STARTS\n",
    "for epoch in range(1):\n",
    "    for step, (bx , by) in enumerate(make_batch(xtrain , ytrain , 256)):#why 256??\n",
    "        #print step,#??  ans -> 10000/256==39.06\n",
    "        \n",
    "        #predicting\n",
    "        output = model(bx)\n",
    "        #print output[0]\n",
    "        #print by[0]\n",
    "        \n",
    "        #Loss calculation\n",
    "        loss = loss_func(output , by)#what if by,output??\n",
    "        #print bx.shape\n",
    "        #print by.shape\n",
    "        \n",
    "        #Equating allgrads to zero\n",
    "        optimizer.zero_grad()\n",
    "        \n",
    "        #calculating grads\n",
    "        loss.backward()\n",
    "        \n",
    "        #applying gradients and lr\n",
    "        optimizer.step()\n",
    "        \n",
    "        \n",
    "        \n",
    "        if step % 200 == 0:#toprint oncein one epoch we have usedif so that we canalso print multiple times in a epoch\n",
    "            test_output = model(torch.FloatTensor(xtest))\n",
    "            test_loss = loss_func(test_output, torch.FloatTensor(xtest))\n",
    "            ls = test_loss.cpu().data.numpy()\n",
    "            a = test_output.data.numpy()\n",
    "            \n",
    "            #acc = (a == xtest).sum()/xtest.shape\n",
    "            # pred_y = torch.max(test_output, 1)[1].data.squeeze().numpy()\n",
    "            # accuracy = float((pred_y == test_y.data.numpy()).astype(int).sum()) / float(test_y.size(0))\n",
    "            print('Epoch: ', epoch, '| Step: ', step, '| Loss: ', ls )\n",
    "        \n",
    "        \n",
    "    "
   ]
  },
  {
   "cell_type": "code",
   "execution_count": 63,
   "metadata": {},
   "outputs": [
    {
     "data": {
      "text/plain": [
       "CAE(\n",
       "  (encoder): Sequential(\n",
       "    (0): Conv2d(1, 16, kernel_size=(3, 3), stride=(3, 3), padding=(1, 1))\n",
       "    (1): ReLU(inplace)\n",
       "    (2): MaxPool2d(kernel_size=2, stride=2, padding=0, dilation=1, ceil_mode=False)\n",
       "    (3): Conv2d(16, 8, kernel_size=(3, 3), stride=(2, 2), padding=(1, 1))\n",
       "    (4): ReLU(inplace)\n",
       "    (5): MaxPool2d(kernel_size=2, stride=1, padding=0, dilation=1, ceil_mode=False)\n",
       "  )\n",
       "  (decoder): Sequential(\n",
       "    (0): ConvTranspose2d(8, 16, kernel_size=(4, 4), stride=(3, 3))\n",
       "    (1): ReLU(inplace)\n",
       "    (2): ConvTranspose2d(16, 1, kernel_size=(4, 4), stride=(4, 4))\n",
       "    (3): Sigmoid()\n",
       "  )\n",
       "  (encode_linear): Linear(in_features=32, out_features=2, bias=True)\n",
       "  (decode_linear): Linear(in_features=2, out_features=32, bias=True)\n",
       ")"
      ]
     },
     "execution_count": 63,
     "metadata": {},
     "output_type": "execute_result"
    }
   ],
   "source": [
    "model.cpu()"
   ]
  },
  {
   "cell_type": "markdown",
   "metadata": {},
   "source": [
    "# Visualisation"
   ]
  },
  {
   "cell_type": "code",
   "execution_count": 64,
   "metadata": {},
   "outputs": [],
   "source": [
    "o = model(torch.FloatTensor(xtrain[:100])).data.numpy()#??what r we doing here??"
   ]
  },
  {
   "cell_type": "code",
   "execution_count": 65,
   "metadata": {},
   "outputs": [
    {
     "data": {
      "text/plain": [
       "<matplotlib.image.AxesImage at 0x109f00410>"
      ]
     },
     "execution_count": 65,
     "metadata": {},
     "output_type": "execute_result"
    },
    {
     "data": {
      "image/png": "[encoded data removed]",
      "text/plain": [
       "<Figure size 432x288 with 1 Axes>"
      ]
     },
     "metadata": {},
     "output_type": "display_data"
    },
    {
     "data": {
      "image/png": "[encoded data removed]",
      "text/plain": [
       "<Figure size 432x288 with 1 Axes>"
      ]
     },
     "metadata": {},
     "output_type": "display_data"
    }
   ],
   "source": [
    "plt.figure(0)\n",
    "plt.imshow(o[0].reshape((28, 28)), cmap='gray')\n",
    "\n",
    "plt.figure(1)\n",
    "plt.imshow(xtrain[0].reshape((28, 28)), cmap='gray')"
   ]
  },
  {
   "cell_type": "code",
   "execution_count": null,
   "metadata": {},
   "outputs": [],
   "source": []
  }
 ],
 "metadata": {
  "kernelspec": {
   "display_name": "Python 3",
   "language": "python",
   "name": "python3"
  },
  "language_info": {
   "codemirror_mode": {
    "name": "ipython",
    "version": 3
   },
   "file_extension": ".py",
   "mimetype": "text/x-python",
   "name": "python",
   "nbconvert_exporter": "python",
   "pygments_lexer": "ipython3",
   "version": "3.6.6"
  }
 },
 "nbformat": 4,
 "nbformat_minor": 2
}
